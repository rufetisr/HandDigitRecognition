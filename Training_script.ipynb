{
  "nbformat": 4,
  "nbformat_minor": 0,
  "metadata": {
    "colab": {
      "provenance": []
    },
    "kernelspec": {
      "name": "python3",
      "display_name": "Python 3"
    },
    "language_info": {
      "name": "python"
    }
  },
  "cells": [
    {
      "cell_type": "code",
      "source": [
        "import zipfile\n",
        "\n",
        "# Unzip the uploaded dataset_6cl.zip file\n",
        "zip_ref = zipfile.ZipFile('/content/Hand Digit Identifying.v5i.yolov8.zip', 'r')\n",
        "zip_ref.extractall('/content/Hand Digit Identifying.v5')  # Extract it to the directory\n",
        "zip_ref.close()"
      ],
      "metadata": {
        "id": "27hf7B9NCmv1"
      },
      "execution_count": 1,
      "outputs": []
    },
    {
      "cell_type": "code",
      "execution_count": null,
      "metadata": {
        "id": "6bK40DIyBM5p"
      },
      "outputs": [],
      "source": [
        "#Training script\n",
        "\n",
        "%pip install ultralytics\n",
        "from ultralytics import YOLO\n",
        "\n",
        "# Build a YOLOv8 model from scratch\n",
        "model = YOLO(\"yolov8n.pt\")\n",
        "\n",
        "\n",
        "# Train the model using dataset\n",
        "results = model.train(\n",
        "    data=\"/content/Hand Digit Identifying.v5/data.yaml\",\n",
        "    epochs=50,\n",
        "    imgsz=512,  # Image size\n",
        "    batch=16,  # Batch size\n",
        ")\n"
      ]
    }
  ]
}